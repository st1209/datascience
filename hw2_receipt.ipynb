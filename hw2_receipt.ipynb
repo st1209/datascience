{
 "cells": [
  {
   "cell_type": "code",
   "execution_count": 2,
   "id": "1b7b5c39-1ef1-4db8-926b-87937900152e",
   "metadata": {},
   "outputs": [
    {
     "name": "stdout",
     "output_type": "stream",
     "text": [
      "[['politics', 80], ['latin', 96], ['dance', 97], ['architecture', 65], ['physics', 98], ['calculus', 97], ['poetry', 'Pass'], ['history', 88], ['computer Science', 100], ['visual Arts', 98]]\n"
     ]
    }
   ],
   "source": [
    "semester_gradebook = [[\"politics\", 80], [\"latin\", 96], [\"dance\", 97], [\"architecture\", 65]]\n",
    "\n",
    "subjects = [\"physics\", \"calculus\", \"poetry\", \"history\"]\n",
    "grades = [98, 97, 85, 88]\n",
    "gradebook = [[\"physics\", 98], [\"calculus\", 97], [\"poetry\", 85], [\"history\", 88]]\n",
    "\n",
    "gradebook.append([\"computer Science\", 100])\n",
    "gradebook.append([\"visual Arts\", 93])\n",
    "\n",
    "gradebook[5] =[\"visual Arts\", 98]\n",
    "\n",
    "gradebook[2].remove(85)\n",
    "gradebook[2].append(\"Pass\")\n",
    "\n",
    "full_gradebook = semester_gradebook + gradebook\n",
    "print(full_gradebook)"
   ]
  },
  {
   "cell_type": "code",
   "execution_count": null,
   "id": "eec3c394-52a7-4192-a2e5-af3735e9936d",
   "metadata": {},
   "outputs": [],
   "source": []
  }
 ],
 "metadata": {
  "kernelspec": {
   "display_name": "Python 3",
   "language": "python",
   "name": "python3"
  },
  "language_info": {
   "codemirror_mode": {
    "name": "ipython",
    "version": 3
   },
   "file_extension": ".py",
   "mimetype": "text/x-python",
   "name": "python",
   "nbconvert_exporter": "python",
   "pygments_lexer": "ipython3",
   "version": "3.8.8"
  }
 },
 "nbformat": 4,
 "nbformat_minor": 5
}
